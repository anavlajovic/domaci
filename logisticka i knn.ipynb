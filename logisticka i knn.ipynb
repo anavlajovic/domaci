{
  "nbformat": 4,
  "nbformat_minor": 0,
  "metadata": {
    "colab": {
      "provenance": [],
      "authorship_tag": "ABX9TyMK3HptMKSHHZFeCbi4YraW",
      "include_colab_link": true
    },
    "kernelspec": {
      "name": "python3",
      "display_name": "Python 3"
    },
    "language_info": {
      "name": "python"
    }
  },
  "cells": [
    {
      "cell_type": "markdown",
      "metadata": {
        "id": "view-in-github",
        "colab_type": "text"
      },
      "source": [
        "<a href=\"https://colab.research.google.com/github/anavlajovic/domaci/blob/main/logisticka%20i%20knn.ipynb\" target=\"_parent\"><img src=\"https://colab.research.google.com/assets/colab-badge.svg\" alt=\"Open In Colab\"/></a>"
      ]
    },
    {
      "cell_type": "code",
      "execution_count": 6,
      "metadata": {
        "id": "MNDQ0QDHZfwK"
      },
      "outputs": [],
      "source": [
        "import pandas as pd\n",
        "import seaborn as sns\n",
        "import matplotlib.pyplot as plt\n",
        "from sklearn.metrics import classification_report, confusion_matrix\n",
        "from sklearn.model_selection import train_test_split\n",
        "from sklearn.linear_model import LinearRegression\n",
        "from sklearn.linear_model import LogisticRegression\n",
        "from sklearn.neighbors import KNeighborsClassifier\n",
        "from sklearn.preprocessing import StandardScaler"
      ]
    },
    {
      "cell_type": "code",
      "source": [
        "data=pd.read_csv('diabetes_dataset.csv')\n",
        "data.head()\n",
        "\n",
        "\n",
        "data= data.replace('Male', 1)\n",
        "data= data.replace('Female', 0)\n",
        "data= data.replace('Yes', 1)\n",
        "data= data.replace('No', 0)\n",
        "data= data.replace('Positive', 1)\n",
        "data= data.replace('Negative', 0)"
      ],
      "metadata": {
        "id": "P_3ZCQt1aoHa"
      },
      "execution_count": 4,
      "outputs": []
    },
    {
      "cell_type": "markdown",
      "source": [
        "# NOVO"
      ],
      "metadata": {
        "id": "cT267DAHdY-f"
      }
    },
    {
      "cell_type": "code",
      "source": [
        "X = data.drop('class', axis=1)\n",
        "y = data['class']\n",
        "\n",
        "# split the data into training and testing sets\n",
        "X_train, X_test, y_train, y_test = train_test_split(X, y, test_size=0.2, random_state=42)\n",
        "\n",
        "# standardize the data\n",
        "scaler = StandardScaler()\n",
        "X_train = scaler.fit_transform(X_train)\n",
        "X_test = scaler.transform(X_test)\n",
        "\n",
        "# logistic regression\n",
        "lr = LogisticRegression()\n",
        "lr.fit(X_train, y_train)\n",
        "\n",
        "y_pred_lr = lr.predict(X_test)\n",
        "\n",
        "# knn\n",
        "knn = KNeighborsClassifier(n_neighbors=5)\n",
        "knn.fit(X_train, y_train)\n",
        "\n",
        "y_pred_knn = knn.predict(X_test)\n",
        "\n",
        "# logistic regression classification report\n",
        "print('Logistic Regression Classification Report:')\n",
        "print(classification_report(y_test, y_pred_lr))\n",
        "\n",
        "# knn classification report\n",
        "print('\\nKNN Classification Report:')\n",
        "print(classification_report(y_test, y_pred_knn))"
      ],
      "metadata": {
        "colab": {
          "base_uri": "https://localhost:8080/"
        },
        "id": "2iYeMNIwbapp",
        "outputId": "5783c619-4c09-44fa-af21-91f0e5b8a7ec"
      },
      "execution_count": 12,
      "outputs": [
        {
          "output_type": "stream",
          "name": "stdout",
          "text": [
            "Logistic Regression Classification Report:\n",
            "              precision    recall  f1-score   support\n",
            "\n",
            "           0       0.90      0.85      0.88        33\n",
            "           1       0.93      0.96      0.94        71\n",
            "\n",
            "    accuracy                           0.92       104\n",
            "   macro avg       0.92      0.90      0.91       104\n",
            "weighted avg       0.92      0.92      0.92       104\n",
            "\n",
            "\n",
            "KNN Classification Report:\n",
            "              precision    recall  f1-score   support\n",
            "\n",
            "           0       0.79      0.91      0.85        33\n",
            "           1       0.95      0.89      0.92        71\n",
            "\n",
            "    accuracy                           0.89       104\n",
            "   macro avg       0.87      0.90      0.88       104\n",
            "weighted avg       0.90      0.89      0.90       104\n",
            "\n"
          ]
        }
      ]
    },
    {
      "cell_type": "markdown",
      "source": [
        "# Staro(logistička)"
      ],
      "metadata": {
        "id": "sB14goxXdb4B"
      }
    },
    {
      "cell_type": "code",
      "source": [
        "train, test= train_test_split(data, test_size=0.2)\n",
        "print(len(train))\n",
        "print(len(test))\n",
        "\n",
        "model= LogisticRegression()\n",
        "model.fit(train[['Polyuria']], train['class'])\n",
        "\n",
        "y_true= test['class']\n",
        "y_pred= model.predict(test[['Polyuria']])\n",
        "\n",
        "print(classification_report(y_true, y_pred, target_names=['Positive','Negative']))\n"
      ],
      "metadata": {
        "colab": {
          "base_uri": "https://localhost:8080/"
        },
        "id": "lSuDA5jba4lo",
        "outputId": "05ed2bb9-eddc-4db4-e5bb-8482c13813b1"
      },
      "execution_count": 10,
      "outputs": [
        {
          "output_type": "stream",
          "name": "stdout",
          "text": [
            "416\n",
            "104\n",
            "              precision    recall  f1-score   support\n",
            "\n",
            "    Positive       0.64      0.97      0.77        37\n",
            "    Negative       0.98      0.70      0.82        67\n",
            "\n",
            "    accuracy                           0.80       104\n",
            "   macro avg       0.81      0.84      0.80       104\n",
            "weighted avg       0.86      0.80      0.80       104\n",
            "\n"
          ]
        }
      ]
    },
    {
      "cell_type": "markdown",
      "source": [
        "# Staro(KNN)"
      ],
      "metadata": {
        "id": "jpVjgh6jdilk"
      }
    },
    {
      "cell_type": "code",
      "source": [
        "scaler = StandardScaler()\n",
        "scaler.fit(data.drop('class',axis=1))\n",
        "scaled_features = scaler.transform(data.drop('class',axis=1))\n",
        "\n",
        "data_new = pd.DataFrame(scaled_features)\n",
        "data_new.head()\n",
        "\n",
        "X = data_new\n",
        "y = data['class']\n",
        "\n",
        "X_train,X_test,y_train,y_test = train_test_split(X, y, test_size=0.2, random_state=42)\n",
        "\n",
        "knn = KNeighborsClassifier(n_neighbors=1)\n",
        "knn.fit(X_train,y_train)\n",
        "predictions = knn.predict(X_test)\n",
        "print(confusion_matrix(y_test,predictions))\n",
        "print(classification_report(y_test,predictions))\n",
        "\n"
      ],
      "metadata": {
        "colab": {
          "base_uri": "https://localhost:8080/"
        },
        "id": "g5M1lOEabJ2f",
        "outputId": "488d0c8f-3860-4a36-b819-6bf3e2fb8ee0"
      },
      "execution_count": 11,
      "outputs": [
        {
          "output_type": "stream",
          "name": "stdout",
          "text": [
            "[[33  0]\n",
            " [ 4 67]]\n",
            "              precision    recall  f1-score   support\n",
            "\n",
            "           0       0.89      1.00      0.94        33\n",
            "           1       1.00      0.94      0.97        71\n",
            "\n",
            "    accuracy                           0.96       104\n",
            "   macro avg       0.95      0.97      0.96       104\n",
            "weighted avg       0.97      0.96      0.96       104\n",
            "\n"
          ]
        }
      ]
    }
  ]
}