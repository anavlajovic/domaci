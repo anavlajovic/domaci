{
  "nbformat": 4,
  "nbformat_minor": 0,
  "metadata": {
    "colab": {
      "provenance": [],
      "include_colab_link": true
    },
    "kernelspec": {
      "name": "python3",
      "display_name": "Python 3"
    },
    "language_info": {
      "name": "python"
    }
  },
  "cells": [
    {
      "cell_type": "markdown",
      "metadata": {
        "id": "view-in-github",
        "colab_type": "text"
      },
      "source": [
        "<a href=\"https://colab.research.google.com/github/anavlajovic/domaci/blob/main/Praktican_deo.ipynb\" target=\"_parent\"><img src=\"https://colab.research.google.com/assets/colab-badge.svg\" alt=\"Open In Colab\"/></a>"
      ]
    },
    {
      "cell_type": "markdown",
      "source": [
        "# Ucitavanje i preprocesiranje podataka\n",
        "\n",
        "Skinuti skup podataka https://archive.ics.uci.edu/dataset/20/census+income\n",
        "\n",
        "Obaviti ciscenje i preprocesiranje podataka za knn model.\n",
        "\n",
        "Objasniti sta je to korelaciona matrica i koja je njena uloga.\n",
        "\n",
        "Koji problem treba da resi nas model?"
      ],
      "metadata": {
        "id": "NFW_KnusiKvN"
      }
    },
    {
      "cell_type": "code",
      "source": [
        "import pandas as pd\n",
        "import missingno as mv\n",
        "import random\n",
        "from sklearn.model_selection import train_test_split\n",
        "\n",
        "df= pd.read_csv(\"adult.data\", header=None)\n",
        "df= df.sample(n=1000, random_state=42)\n",
        "\n",
        "cat= [1, 3, 5, 6, 7, 8, 9, 13] #kategorijske promenljive\n",
        "\n",
        "df= pd.get_dummies(df,columns= cat, drop_first = True)\n",
        "\n",
        "y= df[14]\n",
        "X= df.drop(columns= [14])\n",
        "X.head()\n",
        "print(X.shape)\n",
        "y= pd.get_dummies(y, drop_first= True)\n",
        "y.head()\n",
        "X.columns= X.columns.astype(str)\n",
        "\n",
        "Xtrain, Xtest, ytrain, ytest= train_test_split(X, y, test_size= 0.2)\n",
        "print(Xtrain.shape, ytrain.shape, Xtest.shape, ytest.shape)\n",
        "\n"
      ],
      "metadata": {
        "id": "mbYZ259kjknr",
        "outputId": "dbd63da9-466f-4dd7-928c-7af4376025d9",
        "colab": {
          "base_uri": "https://localhost:8080/"
        }
      },
      "execution_count": 13,
      "outputs": [
        {
          "output_type": "stream",
          "name": "stdout",
          "text": [
            "(1000, 83)\n",
            "(800, 83) (800, 1) (200, 83) (200, 1)\n"
          ]
        }
      ]
    },
    {
      "cell_type": "markdown",
      "source": [
        "# Obucavanje modela\n",
        "\n",
        "Obuciti knn model i naci optimalne hiperparametre."
      ],
      "metadata": {
        "id": "wqBvVeVpjHdq"
      }
    },
    {
      "cell_type": "code",
      "source": [
        "from sklearn.neighbors import KNeighborsClassifier\n",
        "from sklearn.metrics import confusion_matrix, classification_report\n",
        "\n",
        "ks= [x for x in range (1, 15, 2)]\n",
        "\n",
        "models= [KNeighborsClassifier(n_neighbors= k)for k in ks]\n",
        "\n",
        "for model in models:\n",
        "  print(f\"k= {model.get_params()['n_neighbors']}\")\n",
        "  model.fit(Xtrain, ytrain)\n",
        "  y_pred= model.predict(Xtest)\n",
        "  print(classification_report(ytest, y_pred))"
      ],
      "metadata": {
        "id": "HaG-EUt6p4X7",
        "outputId": "bf709d2d-593a-4486-a41a-d0bfc470897f",
        "colab": {
          "base_uri": "https://localhost:8080/"
        }
      },
      "execution_count": 16,
      "outputs": [
        {
          "output_type": "stream",
          "name": "stdout",
          "text": [
            "k= 1\n"
          ]
        },
        {
          "output_type": "stream",
          "name": "stderr",
          "text": [
            "/usr/local/lib/python3.10/dist-packages/sklearn/neighbors/_classification.py:215: DataConversionWarning: A column-vector y was passed when a 1d array was expected. Please change the shape of y to (n_samples,), for example using ravel().\n",
            "  return self._fit(X, y)\n"
          ]
        },
        {
          "output_type": "stream",
          "name": "stdout",
          "text": [
            "              precision    recall  f1-score   support\n",
            "\n",
            "           0       0.74      0.84      0.79       139\n",
            "           1       0.48      0.33      0.39        61\n",
            "\n",
            "    accuracy                           0.69       200\n",
            "   macro avg       0.61      0.58      0.59       200\n",
            "weighted avg       0.66      0.69      0.67       200\n",
            "\n",
            "k= 3\n",
            "              precision    recall  f1-score   support\n",
            "\n",
            "           0       0.72      0.91      0.80       139\n",
            "           1       0.48      0.20      0.28        61\n",
            "\n",
            "    accuracy                           0.69       200\n",
            "   macro avg       0.60      0.55      0.54       200\n",
            "weighted avg       0.65      0.69      0.64       200\n",
            "\n",
            "k= 5\n",
            "              precision    recall  f1-score   support\n",
            "\n",
            "           0       0.72      0.96      0.82       139\n",
            "           1       0.62      0.13      0.22        61\n",
            "\n",
            "    accuracy                           0.71       200\n",
            "   macro avg       0.67      0.55      0.52       200\n",
            "weighted avg       0.69      0.71      0.64       200\n",
            "\n"
          ]
        },
        {
          "output_type": "stream",
          "name": "stderr",
          "text": [
            "/usr/local/lib/python3.10/dist-packages/sklearn/neighbors/_classification.py:215: DataConversionWarning: A column-vector y was passed when a 1d array was expected. Please change the shape of y to (n_samples,), for example using ravel().\n",
            "  return self._fit(X, y)\n",
            "/usr/local/lib/python3.10/dist-packages/sklearn/neighbors/_classification.py:215: DataConversionWarning: A column-vector y was passed when a 1d array was expected. Please change the shape of y to (n_samples,), for example using ravel().\n",
            "  return self._fit(X, y)\n"
          ]
        },
        {
          "output_type": "stream",
          "name": "stdout",
          "text": [
            "k= 7\n",
            "              precision    recall  f1-score   support\n",
            "\n",
            "           0       0.72      0.99      0.84       139\n",
            "           1       0.89      0.13      0.23        61\n",
            "\n",
            "    accuracy                           0.73       200\n",
            "   macro avg       0.81      0.56      0.53       200\n",
            "weighted avg       0.77      0.73      0.65       200\n",
            "\n",
            "k= 9\n",
            "              precision    recall  f1-score   support\n",
            "\n",
            "           0       0.71      1.00      0.83       139\n",
            "           1       1.00      0.08      0.15        61\n",
            "\n",
            "    accuracy                           0.72       200\n",
            "   macro avg       0.86      0.54      0.49       200\n",
            "weighted avg       0.80      0.72      0.62       200\n",
            "\n",
            "k= 11\n",
            "              precision    recall  f1-score   support\n",
            "\n",
            "           0       0.71      1.00      0.83       139\n",
            "           1       1.00      0.08      0.15        61\n",
            "\n",
            "    accuracy                           0.72       200\n",
            "   macro avg       0.86      0.54      0.49       200\n",
            "weighted avg       0.80      0.72      0.62       200\n",
            "\n",
            "k= 13\n",
            "              precision    recall  f1-score   support\n",
            "\n",
            "           0       0.71      1.00      0.83       139\n",
            "           1       1.00      0.08      0.15        61\n",
            "\n",
            "    accuracy                           0.72       200\n",
            "   macro avg       0.86      0.54      0.49       200\n",
            "weighted avg       0.80      0.72      0.62       200\n",
            "\n"
          ]
        },
        {
          "output_type": "stream",
          "name": "stderr",
          "text": [
            "/usr/local/lib/python3.10/dist-packages/sklearn/neighbors/_classification.py:215: DataConversionWarning: A column-vector y was passed when a 1d array was expected. Please change the shape of y to (n_samples,), for example using ravel().\n",
            "  return self._fit(X, y)\n",
            "/usr/local/lib/python3.10/dist-packages/sklearn/neighbors/_classification.py:215: DataConversionWarning: A column-vector y was passed when a 1d array was expected. Please change the shape of y to (n_samples,), for example using ravel().\n",
            "  return self._fit(X, y)\n",
            "/usr/local/lib/python3.10/dist-packages/sklearn/neighbors/_classification.py:215: DataConversionWarning: A column-vector y was passed when a 1d array was expected. Please change the shape of y to (n_samples,), for example using ravel().\n",
            "  return self._fit(X, y)\n",
            "/usr/local/lib/python3.10/dist-packages/sklearn/neighbors/_classification.py:215: DataConversionWarning: A column-vector y was passed when a 1d array was expected. Please change the shape of y to (n_samples,), for example using ravel().\n",
            "  return self._fit(X, y)\n"
          ]
        }
      ]
    },
    {
      "cell_type": "markdown",
      "source": [
        "# Evaluacija modela\n",
        "\n",
        "Proceniti valjanost modela i protumaciti vrednost metrika."
      ],
      "metadata": {
        "id": "C4OHKQhCkIcd"
      }
    }
  ]
}