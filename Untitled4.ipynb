{
  "nbformat": 4,
  "nbformat_minor": 0,
  "metadata": {
    "colab": {
      "provenance": [],
      "authorship_tag": "ABX9TyPwbltzC5GRe2JtV/4GhsjL",
      "include_colab_link": true
    },
    "kernelspec": {
      "name": "python3",
      "display_name": "Python 3"
    },
    "language_info": {
      "name": "python"
    }
  },
  "cells": [
    {
      "cell_type": "markdown",
      "metadata": {
        "id": "view-in-github",
        "colab_type": "text"
      },
      "source": [
        "<a href=\"https://colab.research.google.com/github/anavlajovic/domaci/blob/main/Untitled4.ipynb\" target=\"_parent\"><img src=\"https://colab.research.google.com/assets/colab-badge.svg\" alt=\"Open In Colab\"/></a>"
      ]
    },
    {
      "cell_type": "code",
      "execution_count": null,
      "metadata": {
        "id": "UjaZ1uGR_gV8"
      },
      "outputs": [],
      "source": [
        "\n",
        "\n",
        "import pandas as pd\n",
        "import numpy as np\n",
        "import math\n",
        "import matplotlib.pyplot as plt\n",
        "\n",
        "data = pd.read_csv(\"Real estate.csv\")\n",
        "data.head\n",
        "\n",
        "X = data['X3 distance to the nearest MRT station'].values\n",
        "Y = data['Y house price of unit area'].values\n",
        "#prikazujem zavisnost cene kuće od distance od najbliže MRT stanice zato što je to promenljiva od koje cena najviše zavisi\n",
        "avg_x = np.mean(X)\n",
        "avg_y = np.mean(Y)\n",
        "\n",
        "l=len(X)\n",
        "s1 = 0\n",
        "s2 = 0\n",
        "\n",
        "for i in range(l):\n",
        "  s1 += (X[i] - avg_x) * (Y[i] - avg_y)\n",
        "  s2 += (X[i] - avg_x) ** 2\n",
        "\n",
        "m = s1 / s2\n",
        "c = avg_y - (m * avg_x)\n",
        "\n",
        "print(\"m = \", m)\n",
        "print(\"c = \", c)\n",
        "\n",
        "max_x = np.max(X) + 100\n",
        "min_x = np.min(Y) - 100\n",
        "x = np.linspace (min_x, max_x, 100)\n",
        "y = c + m * x\n",
        "\n",
        "plt.plot(x, y, color='#ea1520', label='Regression Line')\n",
        "plt.scatter(X, Y, c='#15eadf', label='Data points')\n",
        "\n",
        "plt.xlabel('Distance to the nearest MRT station')\n",
        "plt.ylabel('House price of unit')\n",
        "plt.legend()\n",
        "plt.show()\n",
        "\n",
        "\n",
        "ss_t = 0\n",
        "ss_r = 0\n",
        "\n",
        "for i in range(len(data.values)):\n",
        "  y_pred = c + m * X[i]\n",
        "  ss_t += (Y[i] - avg_y) ** 2\n",
        "  ss_r += (Y[i] - y_pred) ** 2\n",
        "r2 = 1 - (ss_r/ss_t)\n",
        "\n",
        "print(\"r^2 = \", r2)"
      ]
    }
  ]
}